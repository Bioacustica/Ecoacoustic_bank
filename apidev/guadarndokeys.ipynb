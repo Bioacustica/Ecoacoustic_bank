{
 "cells": [
  {
   "cell_type": "code",
   "execution_count": 9,
   "id": "baf5d85a-a7af-477b-a428-f6b18735a06b",
   "metadata": {},
   "outputs": [
    {
     "ename": "SyntaxError",
     "evalue": "invalid syntax (3577294899.py, line 12)",
     "output_type": "error",
     "traceback": [
      "\u001b[0;36m  File \u001b[0;32m\"/tmp/ipykernel_36/3577294899.py\"\u001b[0;36m, line \u001b[0;32m12\u001b[0m\n\u001b[0;31m    f.[\"key\"].write(key)\u001b[0m\n\u001b[0m      ^\u001b[0m\n\u001b[0;31mSyntaxError\u001b[0m\u001b[0;31m:\u001b[0m invalid syntax\n"
     ]
    }
   ],
   "source": [
    "import json\n",
    "from cryptography.fernet import Fernet\n",
    "nombre_request = \"santiago3\"\n",
    "pwd_request = \"123456\"\n",
    "with open('keys.json') as f:\n",
    "    data = json.load(f)\n",
    "key = Fernet.generate_key()\n",
    "fernet = Fernet(key)\n",
    "message = fernet.encrypt(pwd_request.encode())\n",
    "if data[\"username\"] == \"santiago3\":\n",
    "    with open('keys.json', 'w') as e:\n",
    "        f.[\"key\"].write(key)\n",
    "        \n",
    "   \n",
    "    "
   ]
  }
 ],
 "metadata": {
  "kernelspec": {
   "display_name": "Python 3 (ipykernel)",
   "language": "python",
   "name": "python3"
  },
  "language_info": {
   "codemirror_mode": {
    "name": "ipython",
    "version": 3
   },
   "file_extension": ".py",
   "mimetype": "text/x-python",
   "name": "python",
   "nbconvert_exporter": "python",
   "pygments_lexer": "ipython3",
   "version": "3.8.10"
  }
 },
 "nbformat": 4,
 "nbformat_minor": 5
}
