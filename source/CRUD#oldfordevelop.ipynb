{
 "cells": [
  {
   "cell_type": "markdown",
   "id": "29439dbf",
   "metadata": {},
   "source": [
    " ### CRUD\n"
   ]
  },
  {
   "cell_type": "code",
   "execution_count": 4,
   "id": "95d973b4",
   "metadata": {},
   "outputs": [],
   "source": [
    "# importamos librerias que nos conectará con POSTGRES\n",
    "import psycopg2\n",
    "from django.conf import settings"
   ]
  },
  {
   "cell_type": "code",
   "execution_count": 11,
   "id": "682306a5-ca86-4a30-8b26-a0ebc6db141c",
   "metadata": {},
   "outputs": [],
   "source": [
    "# name = settings.DATABASES[\"animalesitm\"][\"NAME\"]\n",
    "# user = settings.DATABASES[\"animalesitm\"][\"USER\"]\n",
    "# password = settings.DATABASES[\"animalesitm\"][\"PASSWORD\"]\n",
    "# port = settings.DATABASES[\"animalesitm\"][\"PORT\"]\n",
    "# host = settings.DATABASES[\"animalesitm\"][\"HOST\"]\n",
    "# credenciales_db = {\n",
    "#     \"user\": user,\n",
    "#     \"password\": password,\n",
    "#     \"host\": host,\n",
    "#     \"port\": port,\n",
    "#     \"database\": name\n",
    "# }\n",
    "credenciales_db = {\n",
    "    \"user\": \"animalesitm\",\n",
    "    \"password\": \"animalesitm\",\n",
    "    \"host\": \"postgres\",\n",
    "    \"port\": 5432,\n",
    "    \"database\": \"animalesitm\"\n",
    "}\n"
   ]
  },
  {
   "cell_type": "code",
   "execution_count": 12,
   "id": "d7bc251d",
   "metadata": {},
   "outputs": [],
   "source": [
    "# #Make connection\n",
    "try:\n",
    "    conexion = psycopg2.connect(**credenciales_db)\n",
    "\n",
    "    conexion.autocommit =True\n",
    "    \n",
    "except psycopg2.Error as e:\n",
    "    print(\"Ocurrió un error al conectar a PostgreSQL: \", e)"
   ]
  },
  {
   "cell_type": "code",
   "execution_count": 3,
   "id": "3b695604",
   "metadata": {},
   "outputs": [],
   "source": [
    "# #INSERT\n",
    "# try:\n",
    "#     with conexion.cursor() as cursor:\n",
    "#         consulta = \"INSERT INTO bioacustica.FUNDING(DESCRIPTION) VALUES ('lalaira');\"\n",
    "#         # Podemos llamar muchas veces a .execute con datos distintos\n",
    "#         cursor.execute(consulta)\n",
    "\n",
    "# except psycopg2.Error as e:\n",
    "#     print(\"Ocurrió un error al insertar: \", e)\n",
    "# #finally:\n",
    "#     #conexion.close()"
   ]
  },
  {
   "cell_type": "code",
   "execution_count": 8,
   "id": "f2991204",
   "metadata": {},
   "outputs": [
    {
     "name": "stdout",
     "output_type": "stream",
     "text": [
      "[('daniel', False, True, False, False, True, False, -1, '********', None, False, ['search_path=bioacustica'], 17116), ('victor', False, True, False, False, True, False, -1, '********', None, False, ['search_path=bioacustica'], 17117), ('victormt', False, True, False, False, True, False, -1, '********', None, False, ['search_path=bioacustica'], 17140), ('pg_signal_backend', False, True, False, False, False, False, -1, '********', None, False, None, 4200), ('pg_read_server_files', False, True, False, False, False, False, -1, '********', None, False, None, 4569), ('animalesitm', True, True, True, True, True, True, -1, '********', None, True, None, 10), ('pg_write_server_files', False, True, False, False, False, False, -1, '********', None, False, None, 4570), ('pg_execute_server_program', False, True, False, False, False, False, -1, '********', None, False, None, 4571), ('pg_read_all_stats', False, True, False, False, False, False, -1, '********', None, False, None, 3375), ('pg_monitor', False, True, False, False, False, False, -1, '********', None, False, None, 3373), ('pg_read_all_settings', False, True, False, False, False, False, -1, '********', None, False, None, 3374), ('pg_stat_scan_tables', False, True, False, False, False, False, -1, '********', None, False, None, 3377)]\n"
     ]
    }
   ],
   "source": [
    "# #SELECT\n",
    "try:\n",
    "    with conexion.cursor() as cursor:\n",
    "        # En este caso no necesitamos limpiar ningún dato\n",
    "        cursor.execute(\"SELECT * FROM pg_roles;\")\n",
    "\n",
    "        # Con fetchall traemos todas las filas\n",
    "        bioacustica = cursor.fetchall()\n",
    "        \n",
    "        # Recorrer e imprimir\n",
    "#         for DESCRIPTION, id_funding in bioacustica:\n",
    "        print(f\"{bioacustica}\")\n",
    "except psycopg2.Error as e:\n",
    "    print(\"Ocurrió un error al consultar: \", e)"
   ]
  },
  {
   "cell_type": "code",
   "execution_count": 4,
   "id": "121c7c10",
   "metadata": {},
   "outputs": [],
   "source": [
    "# #update\n",
    "# try:\n",
    "#     with conexion.cursor() as cursor:\n",
    "#         consulta = \"UPDATE bioacustica.FUNDING  SET DESCRIPTION = '{}' WHERE id_funding = {};\".format(\"lolis\",8)\"\n",
    "#         cursor.execute(consulta)\n",
    "\n",
    "# except psycopg2.Error as e:\n",
    "#     print(\"Ocurrió un error al editar: \", e)"
   ]
  },
  {
   "cell_type": "code",
   "execution_count": 5,
   "id": "50a16fac",
   "metadata": {},
   "outputs": [],
   "source": [
    "# #delete\n",
    "# try:\n",
    "#     with conexion.cursor() as cursor:\n",
    "\n",
    "#         consulta = \"DELETE FROM bioacustica.FUNDING WHERE DESCRIPTION ='{}';\".format(\"lolis\")\n",
    "        \n",
    "#         # También podría ser sin where\n",
    "    \n",
    "#         cursor.execute(consulta) \n",
    "\n",
    "#     # No olvidemos hacer commit cuando hacemos un cambio a la BD\n",
    "# except psycopg2.Error as e:\n",
    "#     print(\"Error eliminando: \", e)\n",
    "# finally:\n",
    "#     conexion.close()"
   ]
  },
  {
   "cell_type": "code",
   "execution_count": 37,
   "id": "6fde0f2f",
   "metadata": {},
   "outputs": [],
   "source": [
    "import psycopg2\n",
    "\n",
    "class ConexionPostgresql:\n",
    "    def __init__(self, user: str, password: str, host: str, port: str, database: str) -> None:\n",
    "        self.user = user\n",
    "        self.password = password\n",
    "        self.host = host\n",
    "        self.port = port\n",
    "        self.database = database       \n",
    "        \n",
    "    \n",
    "    def crear_conexion(self, autocommit: bool = False):\n",
    "\n",
    "        credenciales = {\n",
    "            \"user\": self.user,\n",
    "            \"password\": self.password,\n",
    "            \"host\": self.host,\n",
    "            \"port\":self.port,\n",
    "            \"database\": self.database\n",
    "        }\n",
    "        \n",
    "        conexion = psycopg2.connect(**credenciales)\n",
    "        \n",
    "        conexion.autocommit = autocommit\n",
    "        \n",
    "        cursor = conexion.cursor()        \n",
    "        \n",
    "        return cursor    \n",
    "        "
   ]
  },
  {
   "cell_type": "code",
   "execution_count": 23,
   "id": "2e5e2cd5-6b1f-4ce4-80fd-7901d533baaa",
   "metadata": {},
   "outputs": [],
   "source": [
    "# TODO agregar las credenciales a variables de entorno\n",
    "# Hay un problema con el CONEXION_PORT, SE INDAGAN SOBRE LA CAUSA\n",
    "\n",
    "conexion = ConexionPostgresql(\n",
    "    user  =\"animalesitm\",\n",
    "    password =\"animalesitm\",\n",
    "    host = \"postgres\",\n",
    "    port = 5432 ,\n",
    "    database =\"animalesitm\"\n",
    "     \n",
    "#    \"CONEXION_USER\",\n",
    "#     \"CONEXION_PASSWORD\",\n",
    "#     \"CONEXION_HOST\",\n",
    "#     \"CONEXION_PORT\",\n",
    "#     \"CONEXION_DATABASE\"\n",
    ")"
   ]
  },
  {
   "cell_type": "code",
   "execution_count": 38,
   "id": "0cc829cc-4bc3-4047-afd5-578cfe7667a4",
   "metadata": {},
   "outputs": [],
   "source": [
    "cursor = conexion.crear_conexion(autocommit=True)"
   ]
  },
  {
   "cell_type": "code",
   "execution_count": 36,
   "id": "6d33263b-97ea-45b2-a647-f037aeeef57f",
   "metadata": {},
   "outputs": [],
   "source": [
    "class EjecutarQuery:\n",
    "    \n",
    "    def __init__(self, cursor: psycopg2.extensions.cursor) -> None:\n",
    "        self.cursor =  cursor             \n",
    "    \n",
    "    \n",
    "    def ejecutar_create(self, query: str):\n",
    "        self.cursor.execute(query)\n",
    "        \n",
    "    \n",
    "    \n",
    "    def ejecutar_select(self, query: str, fetchall: bool=False):\n",
    "        self.cursor.execute(query)\n",
    "\n",
    "        if fetchall:\n",
    "            resultado = self.cursor.fetchall()\n",
    "        else:\n",
    "            resultado = self.cursor.fetchone()\n",
    "\n",
    "        return resultado\n",
    "    \n",
    "    \n",
    "    def ejecutar_update(self, query:str):\n",
    "        self.cursor.execute(query)\n",
    "\n",
    "    \n",
    "    def ejecutar_delete(self, query:str):\n",
    "        self.cursor.execute(query)\n",
    "        \n",
    "    "
   ]
  },
  {
   "cell_type": "code",
   "execution_count": 41,
   "id": "5f79e51e-77c9-48b6-a4ef-d2850026b264",
   "metadata": {},
   "outputs": [],
   "source": [
    "ejecutar = EjecutarQuery(cursor=cursor)\n",
    "consulta =\"INSERT INTO bioacustica.FUNDING(DESCRIPTION) VALUES ('lalaira');\" # para Create(insert)\n",
    "#consulta =UPDATE bioacustica.FUNDING  SET DESCRIPTION = '{}' WHERE id_funding = {};\".format(\"lolis\",8) #for update\n",
    "\n",
    "ejecutar.ejecutar_create(query=consulta)"
   ]
  },
  {
   "cell_type": "code",
   "execution_count": null,
   "id": "9a73d9b7-2bfd-4d3a-891d-93ed81de5459",
   "metadata": {},
   "outputs": [],
   "source": [
    "CRUD, R"
   ]
  },
  {
   "cell_type": "code",
   "execution_count": 5,
   "id": "822107f3-7339-40fb-9477-66c375a89071",
   "metadata": {},
   "outputs": [],
   "source": [
    "import os "
   ]
  },
  {
   "cell_type": "code",
   "execution_count": 1,
   "id": "1ad81bef-8615-436d-aea4-a7b554e39ef8",
   "metadata": {},
   "outputs": [
    {
     "ename": "NameError",
     "evalue": "name 'os' is not defined",
     "output_type": "error",
     "traceback": [
      "\u001b[0;31m---------------------------------------------------------------------------\u001b[0m",
      "\u001b[0;31mNameError\u001b[0m                                 Traceback (most recent call last)",
      "\u001b[0;32m<ipython-input-1-47171b6ca34f>\u001b[0m in \u001b[0;36m<module>\u001b[0;34m\u001b[0m\n\u001b[0;32m----> 1\u001b[0;31m \u001b[0mos\u001b[0m\u001b[0;34m.\u001b[0m\u001b[0menviron\u001b[0m\u001b[0;34m.\u001b[0m\u001b[0mget\u001b[0m\u001b[0;34m(\u001b[0m\u001b[0;34m\"CONEXION_PORT\"\u001b[0m\u001b[0;34m)\u001b[0m\u001b[0;34m\u001b[0m\u001b[0;34m\u001b[0m\u001b[0m\n\u001b[0m",
      "\u001b[0;31mNameError\u001b[0m: name 'os' is not defined"
     ]
    }
   ],
   "source": [
    "os.environ.get(\"CONEXION_PORT\")"
   ]
  },
  {
   "cell_type": "code",
   "execution_count": 7,
   "id": "5d3b7e15-d052-4d05-bfb7-5d983d590390",
   "metadata": {},
   "outputs": [
    {
     "data": {
      "text/plain": [
       "'postgres'"
      ]
     },
     "execution_count": 7,
     "metadata": {},
     "output_type": "execute_result"
    }
   ],
   "source": [
    "os.environ.get('DB_HOST')"
   ]
  },
  {
   "cell_type": "code",
   "execution_count": 9,
   "id": "c6e95a24-4310-46bf-9950-195cfb6e43c6",
   "metadata": {},
   "outputs": [],
   "source": [
    "import environ"
   ]
  },
  {
   "cell_type": "code",
   "execution_count": 10,
   "id": "ee9f0b9d-e890-4995-8969-ebbece54fc83",
   "metadata": {},
   "outputs": [],
   "source": [
    "env = environ.Env()"
   ]
  },
  {
   "cell_type": "code",
   "execution_count": 11,
   "id": "acc6c3ca-9236-4aaf-bcf8-ec26fe7ea1bf",
   "metadata": {},
   "outputs": [
    {
     "data": {
      "text/plain": [
       "'animalesitm'"
      ]
     },
     "execution_count": 11,
     "metadata": {},
     "output_type": "execute_result"
    }
   ],
   "source": [
    " env.str('POSTGRES_DB')"
   ]
  },
  {
   "cell_type": "code",
   "execution_count": 12,
   "id": "ba959d91-a0ae-4347-ad1a-8db66c2d97ba",
   "metadata": {},
   "outputs": [
    {
     "data": {
      "text/plain": [
       "'postgres'"
      ]
     },
     "execution_count": 12,
     "metadata": {},
     "output_type": "execute_result"
    }
   ],
   "source": [
    " env.str('DB_HOST')"
   ]
  },
  {
   "cell_type": "code",
   "execution_count": null,
   "id": "4d0a2e79-558c-4f06-a49c-491877f4d2f4",
   "metadata": {},
   "outputs": [],
   "source": []
  }
 ],
 "metadata": {
  "kernelspec": {
   "display_name": "Python 3 (ipykernel)",
   "language": "python",
   "name": "python3"
  },
  "language_info": {
   "codemirror_mode": {
    "name": "ipython",
    "version": 3
   },
   "file_extension": ".py",
   "mimetype": "text/x-python",
   "name": "python",
   "nbconvert_exporter": "python",
   "pygments_lexer": "ipython3",
   "version": "3.8.10"
  }
 },
 "nbformat": 4,
 "nbformat_minor": 5
}
