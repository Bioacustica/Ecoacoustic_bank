{
<<<<<<< HEAD
 "cells": [
  {
   "cell_type": "code",
   "execution_count": 1,
   "id": "8ba59826-425d-4171-b4b2-8327517ca33d",
   "metadata": {},
   "outputs": [],
   "source": [
    "import base64\n",
    "import sys"
   ]
  },
  {
   "cell_type": "code",
   "execution_count": null,
   "id": "6a49d0fe-3c39-45cd-8f2a-bc1866905e4c",
   "metadata": {},
   "outputs": [],
   "source": []
  },
  {
   "cell_type": "code",
   "execution_count": 24,
   "id": "5c227973-180c-4f68-96b2-10f43dab84d2",
   "metadata": {},
   "outputs": [],
   "source": [
    "def base_64_encoding(file_path):\n",
    "    # converted = AudioSegment.from_mp3(file_path)\n",
    "    # converted.export(\"converted.wav\", format=\"wav\")\n",
    "    file = open(file_path, \"rb\")\n",
    "    audio_content = file.read()\n",
    "    b64_content = base64.b64encode(audio_content)  \n",
    "    return  b64_content"
   ]
  },
  {
   "cell_type": "code",
   "execution_count": 25,
   "id": "a7e6f7ee-9927-478a-913b-f8a6359a1f04",
   "metadata": {},
   "outputs": [],
   "source": [
    "def base_64_decoding_to_wav(file):\n",
    "    out_put = open ('convertido.wav', \"wb\") \n",
    "    to_wav = base64.b64decode(file)\n",
    "    out_put.write(to_vaw)"
   ]
  },
  {
   "cell_type": "code",
   "execution_count": 26,
   "id": "83230c50-b043-442b-a053-0816073e082a",
   "metadata": {},
   "outputs": [
    {
     "ename": "NameError",
     "evalue": "name 'to_vaw' is not defined",
     "output_type": "error",
     "traceback": [
      "\u001b[0;31m---------------------------------------------------------------------------\u001b[0m",
      "\u001b[0;31mNameError\u001b[0m                                 Traceback (most recent call last)",
      "\u001b[0;32m<ipython-input-26-0e2e921f490e>\u001b[0m in \u001b[0;36m<module>\u001b[0;34m\u001b[0m\n\u001b[0;32m----> 1\u001b[0;31m \u001b[0mbase_64_decoding_to_wav\u001b[0m\u001b[0;34m(\u001b[0m\u001b[0mbase_64_encoding\u001b[0m\u001b[0;34m(\u001b[0m\u001b[0;34m'ensayo.wav'\u001b[0m\u001b[0;34m)\u001b[0m\u001b[0;34m)\u001b[0m\u001b[0;34m\u001b[0m\u001b[0;34m\u001b[0m\u001b[0m\n\u001b[0m",
      "\u001b[0;32m<ipython-input-25-6fed0b21bace>\u001b[0m in \u001b[0;36mbase_64_decoding_to_wav\u001b[0;34m(file)\u001b[0m\n\u001b[1;32m      2\u001b[0m     \u001b[0mout_put\u001b[0m \u001b[0;34m=\u001b[0m \u001b[0mopen\u001b[0m \u001b[0;34m(\u001b[0m\u001b[0;34m'convertido.wav'\u001b[0m\u001b[0;34m,\u001b[0m \u001b[0;34m\"wb\"\u001b[0m\u001b[0;34m)\u001b[0m\u001b[0;34m\u001b[0m\u001b[0;34m\u001b[0m\u001b[0m\n\u001b[1;32m      3\u001b[0m     \u001b[0mto_wav\u001b[0m \u001b[0;34m=\u001b[0m \u001b[0mbase64\u001b[0m\u001b[0;34m.\u001b[0m\u001b[0mb64decode\u001b[0m\u001b[0;34m(\u001b[0m\u001b[0mfile\u001b[0m\u001b[0;34m)\u001b[0m\u001b[0;34m\u001b[0m\u001b[0;34m\u001b[0m\u001b[0m\n\u001b[0;32m----> 4\u001b[0;31m     \u001b[0mout_put\u001b[0m\u001b[0;34m.\u001b[0m\u001b[0mwrite\u001b[0m\u001b[0;34m(\u001b[0m\u001b[0mto_vaw\u001b[0m\u001b[0;34m)\u001b[0m\u001b[0;34m\u001b[0m\u001b[0;34m\u001b[0m\u001b[0m\n\u001b[0m",
      "\u001b[0;31mNameError\u001b[0m: name 'to_vaw' is not defined"
     ]
    }
   ],
   "source": [
    "base_64_decoding_to_wav(base_64_encoding('ensayo.wav'))"
   ]
  }
 ],
 "metadata": {
  "kernelspec": {
   "display_name": "Python 3",
   "language": "python",
   "name": "python3"
  },
  "language_info": {
   "codemirror_mode": {
    "name": "ipython",
    "version": 3
   },
   "file_extension": ".py",
   "mimetype": "text/x-python",
   "name": "python",
   "nbconvert_exporter": "python",
   "pygments_lexer": "ipython3",
   "version": "3.6.9"
  }
 },
=======
 "cells": [],
 "metadata": {},
>>>>>>> a5a309d0c7e6cba47785ec09dd7aec72f57c4a4a
 "nbformat": 4,
 "nbformat_minor": 5
}
